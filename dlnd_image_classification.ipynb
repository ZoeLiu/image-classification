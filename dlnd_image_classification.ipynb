{
 "cells": [
  {
   "cell_type": "markdown",
   "metadata": {
    "collapsed": true
   },
   "source": [
    "# Image Classification\n",
    "In this project, you'll classify images from the [CIFAR-10 dataset](https://www.cs.toronto.edu/~kriz/cifar.html).  The dataset consists of airplanes, dogs, cats, and other objects. You'll preprocess the images, then train a convolutional neural network on all the samples. The images need to be normalized and the labels need to be one-hot encoded.  You'll get to apply what you learned and build a convolutional, max pooling, dropout, and fully connected layers.  At the end, you'll get to see your neural network's predictions on the sample images.\n",
    "## Get the Data\n",
    "Run the following cell to download the [CIFAR-10 dataset for python](https://www.cs.toronto.edu/~kriz/cifar-10-python.tar.gz)."
   ]
  },
  {
   "cell_type": "code",
   "execution_count": 2,
   "metadata": {
    "collapsed": false
   },
   "outputs": [
    {
     "name": "stdout",
     "output_type": "stream",
     "text": [
      "All files found!\n"
     ]
    }
   ],
   "source": [
    "\"\"\"\n",
    "DON'T MODIFY ANYTHING IN THIS CELL THAT IS BELOW THIS LINE\n",
    "\"\"\"\n",
    "from urllib.request import urlretrieve\n",
    "from os.path import isfile, isdir\n",
    "from tqdm import tqdm\n",
    "import problem_unittests as tests\n",
    "import tarfile\n",
    "\n",
    "cifar10_dataset_folder_path = 'cifar-10-batches-py'\n",
    "\n",
    "class DLProgress(tqdm):\n",
    "    last_block = 0\n",
    "\n",
    "    def hook(self, block_num=1, block_size=1, total_size=None):\n",
    "        self.total = total_size\n",
    "        self.update((block_num - self.last_block) * block_size)\n",
    "        self.last_block = block_num\n",
    "\n",
    "if not isfile('cifar-10-python.tar.gz'):\n",
    "    with DLProgress(unit='B', unit_scale=True, miniters=1, desc='CIFAR-10 Dataset') as pbar:\n",
    "        urlretrieve(\n",
    "            'https://www.cs.toronto.edu/~kriz/cifar-10-python.tar.gz',\n",
    "            'cifar-10-python.tar.gz',\n",
    "            pbar.hook)\n",
    "\n",
    "if not isdir(cifar10_dataset_folder_path):\n",
    "    with tarfile.open('cifar-10-python.tar.gz') as tar:\n",
    "        tar.extractall()\n",
    "        tar.close()\n",
    "\n",
    "\n",
    "tests.test_folder_path(cifar10_dataset_folder_path)"
   ]
  },
  {
   "cell_type": "markdown",
   "metadata": {},
   "source": [
    "## Explore the Data\n",
    "The dataset is broken into batches to prevent your machine from running out of memory.  The CIFAR-10 dataset consists of 5 batches, named `data_batch_1`, `data_batch_2`, etc.. Each batch contains the labels and images that are one of the following:\n",
    "* airplane\n",
    "* automobile\n",
    "* bird\n",
    "* cat\n",
    "* deer\n",
    "* dog\n",
    "* frog\n",
    "* horse\n",
    "* ship\n",
    "* truck\n",
    "\n",
    "Understanding a dataset is part of making predictions on the data.  Play around with the code cell below by changing the `batch_id` and `sample_id`. The `batch_id` is the id for a batch (1-5). The `sample_id` is the id for a image and label pair in the batch.\n",
    "\n",
    "Ask yourself \"What are all possible labels?\", \"What is the range of values for the image data?\", \"Are the labels in order or random?\".  Answers to questions like these will help you preprocess the data and end up with better predictions."
   ]
  },
  {
   "cell_type": "code",
   "execution_count": 3,
   "metadata": {
    "collapsed": false,
    "scrolled": true
   },
   "outputs": [
    {
     "name": "stdout",
     "output_type": "stream",
     "text": [
      "\n",
      "Stats of batch 5:\n",
      "Samples: 10000\n",
      "Label Counts: {0: 1014, 1: 1014, 2: 952, 3: 1016, 4: 997, 5: 1025, 6: 980, 7: 977, 8: 1003, 9: 1022}\n",
      "First 20 Labels: [1, 8, 5, 1, 5, 7, 4, 3, 8, 2, 7, 2, 0, 1, 5, 9, 6, 2, 0, 8]\n",
      "\n",
      "Example of Image 4:\n",
      "Image - Min Value: 2 Max Value: 248\n",
      "Image - Shape: (32, 32, 3)\n",
      "Label - Label Id: 5 Name: dog\n"
     ]
    },
    {
     "data": {
      "image/png": "[encoded data removed]",
      "text/plain": [
       "<matplotlib.figure.Figure at 0x7f45d364d0f0>"
      ]
     },
     "metadata": {
      "image/png": {
       "height": 250,
       "width": 253
      }
     },
     "output_type": "display_data"
    }
   ],
   "source": [
    "%matplotlib inline\n",
    "%config InlineBackend.figure_format = 'retina'\n",
    "\n",
    "import helper\n",
    "import numpy as np\n",
    "\n",
    "# Explore the dataset\n",
    "batch_id = 5\n",
    "sample_id = 4\n",
    "helper.display_stats(cifar10_dataset_folder_path, batch_id, sample_id)"
   ]
  },
  {
   "cell_type": "markdown",
   "metadata": {},
   "source": [
    "## Implement Preprocess Functions\n",
    "### Normalize\n",
    "In the cell below, implement the `normalize` function to take in image data, `x`, and return it as a normalized Numpy array. The values should be in the range of 0 to 1, inclusive.  The return object should be the same shape as `x`."
   ]
  },
  {
   "cell_type": "code",
   "execution_count": 4,
   "metadata": {
    "collapsed": false
   },
   "outputs": [
    {
     "name": "stdout",
     "output_type": "stream",
     "text": [
      "Tests Passed\n"
     ]
    }
   ],
   "source": [
    "def normalize(x):\n",
    "    \"\"\"\n",
    "    Normalize a list of sample image data in the range of 0 to 1\n",
    "    : x: List of image data.  The image shape is (32, 32, 3)\n",
    "    : return: Numpy array of normalize data\n",
    "    \"\"\"\n",
    "    # TODO: Implement Function\n",
    "    a = 0.0 \n",
    "    b = 1.0\n",
    "    x_min = 0\n",
    "    x_max = 255\n",
    "    return a + (x - x_min) * (b - a) / (x_max - x_min)\n",
    "\n",
    "\n",
    "\"\"\"\n",
    "DON'T MODIFY ANYTHING IN THIS CELL THAT IS BELOW THIS LINE\n",
    "\"\"\"\n",
    "tests.test_normalize(normalize)"
   ]
  },
  {
   "cell_type": "markdown",
   "metadata": {},
   "source": [
    "### One-hot encode\n",
    "Just like the previous code cell, you'll be implementing a function for preprocessing.  This time, you'll implement the `one_hot_encode` function. The input, `x`, are a list of labels.  Implement the function to return the list of labels as One-Hot encoded Numpy array.  The possible values for labels are 0 to 9. The one-hot encoding function should return the same encoding for each value between each call to `one_hot_encode`.  Make sure to save the map of encodings outside the function.\n",
    "\n",
    "Hint: Don't reinvent the wheel."
   ]
  },
  {
   "cell_type": "code",
   "execution_count": 5,
   "metadata": {
    "collapsed": false
   },
   "outputs": [
    {
     "name": "stdout",
     "output_type": "stream",
     "text": [
      "Tests Passed\n"
     ]
    }
   ],
   "source": [
    "from sklearn import preprocessing\n",
    "def one_hot_encode(x):\n",
    "    \"\"\"\n",
    "    One hot encode a list of sample labels. Return a one-hot encoded vector for each label.\n",
    "    : x: List of sample Labels\n",
    "    : return: Numpy array of one-hot encoded labels\n",
    "    \"\"\"\n",
    "    # TODO: Implement Function\n",
    "    lb = preprocessing.LabelBinarizer()\n",
    "    lb.fit(range(10))\n",
    "    y = lb.transform(x)\n",
    "    return y\n",
    "\n",
    "\n",
    "\"\"\"\n",
    "DON'T MODIFY ANYTHING IN THIS CELL THAT IS BELOW THIS LINE\n",
    "\"\"\"\n",
    "tests.test_one_hot_encode(one_hot_encode)"
   ]
  },
  {
   "cell_type": "markdown",
   "metadata": {},
   "source": [
    "### Randomize Data\n",
    "As you saw from exploring the data above, the order of the samples are randomized.  It doesn't hurt to randomize it again, but you don't need to for this dataset."
   ]
  },
  {
   "cell_type": "markdown",
   "metadata": {},
   "source": [
    "## Preprocess all the data and save it\n",
    "Running the code cell below will preprocess all the CIFAR-10 data and save it to file. The code below also uses 10% of the training data for validation."
   ]
  },
  {
   "cell_type": "code",
   "execution_count": 6,
   "metadata": {
    "collapsed": false
   },
   "outputs": [],
   "source": [
    "\"\"\"\n",
    "DON'T MODIFY ANYTHING IN THIS CELL\n",
    "\"\"\"\n",
    "# Preprocess Training, Validation, and Testing Data\n",
    "helper.preprocess_and_save_data(cifar10_dataset_folder_path, normalize, one_hot_encode)"
   ]
  },
  {
   "cell_type": "markdown",
   "metadata": {},
   "source": [
    "# Check Point\n",
    "This is your first checkpoint.  If you ever decide to come back to this notebook or have to restart the notebook, you can start from here.  The preprocessed data has been saved to disk."
   ]
  },
  {
   "cell_type": "code",
   "execution_count": 7,
   "metadata": {
    "collapsed": true
   },
   "outputs": [],
   "source": [
    "\"\"\"\n",
    "DON'T MODIFY ANYTHING IN THIS CELL\n",
    "\"\"\"\n",
    "import pickle\n",
    "import problem_unittests as tests\n",
    "import helper\n",
    "\n",
    "# Load the Preprocessed Validation data\n",
    "valid_features, valid_labels = pickle.load(open('preprocess_validation.p', mode='rb'))"
   ]
  },
  {
   "cell_type": "markdown",
   "metadata": {},
   "source": [
    "## Build the network\n",
    "For the neural network, you'll build each layer into a function.  Most of the code you've seen has been outside of functions. To test your code more thoroughly, we require that you put each layer in a function.  This allows us to give you better feedback and test for simple mistakes using our unittests before you submit your project.\n",
    "\n",
    ">**Note:** If you're finding it hard to dedicate enough time for this course each week, we've provided a small shortcut to this part of the project. In the next couple of problems, you'll have the option to use classes from the [TensorFlow Layers](https://www.tensorflow.org/api_docs/python/tf/layers) or [TensorFlow Layers (contrib)](https://www.tensorflow.org/api_guides/python/contrib.layers) packages to build each layer, except the layers you build in the \"Convolutional and Max Pooling Layer\" section.  TF Layers is similar to Keras's and TFLearn's abstraction to layers, so it's easy to pickup.\n",
    "\n",
    ">However, if you would like to get the most out of this course, try to solve all the problems _without_ using anything from the TF Layers packages. You **can** still use classes from other packages that happen to have the same name as ones you find in TF Layers! For example, instead of using the TF Layers version of the `conv2d` class, [tf.layers.conv2d](https://www.tensorflow.org/api_docs/python/tf/layers/conv2d), you would want to use the TF Neural Network version of `conv2d`, [tf.nn.conv2d](https://www.tensorflow.org/api_docs/python/tf/nn/conv2d). \n",
    "\n",
    "Let's begin!\n",
    "\n",
    "### Input\n",
    "The neural network needs to read the image data, one-hot encoded labels, and dropout keep probability. Implement the following functions\n",
    "* Implement `neural_net_image_input`\n",
    " * Return a [TF Placeholder](https://www.tensorflow.org/api_docs/python/tf/placeholder)\n",
    " * Set the shape using `image_shape` with batch size set to `None`.\n",
    " * Name the TensorFlow placeholder \"x\" using the TensorFlow `name` parameter in the [TF Placeholder](https://www.tensorflow.org/api_docs/python/tf/placeholder).\n",
    "* Implement `neural_net_label_input`\n",
    " * Return a [TF Placeholder](https://www.tensorflow.org/api_docs/python/tf/placeholder)\n",
    " * Set the shape using `n_classes` with batch size set to `None`.\n",
    " * Name the TensorFlow placeholder \"y\" using the TensorFlow `name` parameter in the [TF Placeholder](https://www.tensorflow.org/api_docs/python/tf/placeholder).\n",
    "* Implement `neural_net_keep_prob_input`\n",
    " * Return a [TF Placeholder](https://www.tensorflow.org/api_docs/python/tf/placeholder) for dropout keep probability.\n",
    " * Name the TensorFlow placeholder \"keep_prob\" using the TensorFlow `name` parameter in the [TF Placeholder](https://www.tensorflow.org/api_docs/python/tf/placeholder).\n",
    "\n",
    "These names will be used at the end of the project to load your saved model.\n",
    "\n",
    "Note: `None` for shapes in TensorFlow allow for a dynamic size."
   ]
  },
  {
   "cell_type": "code",
   "execution_count": 8,
   "metadata": {
    "collapsed": false
   },
   "outputs": [
    {
     "name": "stdout",
     "output_type": "stream",
     "text": [
      "Image Input Tests Passed.\n",
      "Label Input Tests Passed.\n",
      "Keep Prob Tests Passed.\n"
     ]
    }
   ],
   "source": [
    "import tensorflow as tf\n",
    "\n",
    "def neural_net_image_input(image_shape):\n",
    "    \"\"\"\n",
    "    Return a Tensor for a bach of image input\n",
    "    : image_shape: Shape of the images\n",
    "    : return: Tensor for image input.\n",
    "    \"\"\"\n",
    "    # TODO: Implement Function\n",
    "    return tf.placeholder(tf.float32, shape=[None, *image_shape], name =\"x\")\n",
    "\n",
    "\n",
    "def neural_net_label_input(n_classes):\n",
    "    \"\"\"\n",
    "    Return a Tensor for a batch of label input\n",
    "    : n_classes: Number of classes\n",
    "    : return: Tensor for label input.\n",
    "    \"\"\"\n",
    "    # TODO: Implement Function\n",
    "    return tf.placeholder(tf.int32, shape = [None, n_classes], name = \"y\")\n",
    "\n",
    "\n",
    "def neural_net_keep_prob_input():\n",
    "    \"\"\"\n",
    "    Return a Tensor for keep probability\n",
    "    : return: Tensor for keep probability.\n",
    "    \"\"\"\n",
    "    # TODO: Implement Function\n",
    "    return tf.placeholder(tf.float32, name =\"keep_prob\")\n",
    "\n",
    "\n",
    "\"\"\"\n",
    "DON'T MODIFY ANYTHING IN THIS CELL THAT IS BELOW THIS LINE\n",
    "\"\"\"\n",
    "tf.reset_default_graph()\n",
    "tests.test_nn_image_inputs(neural_net_image_input)\n",
    "tests.test_nn_label_inputs(neural_net_label_input)\n",
    "tests.test_nn_keep_prob_inputs(neural_net_keep_prob_input)"
   ]
  },
  {
   "cell_type": "markdown",
   "metadata": {},
   "source": [
    "### Convolution and Max Pooling Layer\n",
    "Convolution layers have a lot of success with images. For this code cell, you should implement the function `conv2d_maxpool` to apply convolution then max pooling:\n",
    "* Create the weight and bias using `conv_ksize`, `conv_num_outputs` and the shape of `x_tensor`.\n",
    "* Apply a convolution to `x_tensor` using weight and `conv_strides`.\n",
    " * We recommend you use same padding, but you're welcome to use any padding.\n",
    "* Add bias\n",
    "* Add a nonlinear activation to the convolution.\n",
    "* Apply Max Pooling using `pool_ksize` and `pool_strides`.\n",
    " * We recommend you use same padding, but you're welcome to use any padding.\n",
    "\n",
    "**Note:** You **can't** use [TensorFlow Layers](https://www.tensorflow.org/api_docs/python/tf/layers) or [TensorFlow Layers (contrib)](https://www.tensorflow.org/api_guides/python/contrib.layers) for **this** layer, but you can still use TensorFlow's [Neural Network](https://www.tensorflow.org/api_docs/python/tf/nn) package. You may still use the shortcut option for all the **other** layers."
   ]
  },
  {
   "cell_type": "code",
   "execution_count": 9,
   "metadata": {
    "collapsed": false
   },
   "outputs": [
    {
     "name": "stdout",
     "output_type": "stream",
     "text": [
      "Tests Passed\n"
     ]
    }
   ],
   "source": [
    "def conv2d_maxpool(x_tensor, conv_num_outputs, conv_ksize, conv_strides, pool_ksize, pool_strides):\n",
    "    \"\"\"\n",
    "    Apply convolution then max pooling to x_tensor\n",
    "    :param x_tensor: TensorFlow Tensor\n",
    "    :param conv_num_outputs: Number of outputs for the convolutional layer\n",
    "    :param conv_ksize: kernal size 2-D Tuple for the convolutional layer\n",
    "    :param conv_strides: Stride 2-D Tuple for convolution\n",
    "    :param pool_ksize: kernal size 2-D Tuple for pool\n",
    "    :param pool_strides: Stride 2-D Tuple for pool\n",
    "    : return: A tensor that represents convolution and max pooling of x_tensor\n",
    "    \"\"\"\n",
    "    # TODO: Implement Function\n",
    "    input_channel_depth = int(x_tensor.get_shape()[3])\n",
    "    fw = tf.Variable(tf.truncated_normal([*conv_ksize, input_channel_depth, conv_num_outputs], stddev=0.05, dtype=tf.float32))\n",
    "    fb = tf.Variable(tf.constant(0, shape=[conv_num_outputs], dtype=tf.float32))\n",
    "    conv2d_mp_layer = tf.nn.conv2d(input=x_tensor, filter=fw, strides=[1, *conv_strides, 1], padding='SAME')\n",
    "    conv2d_mp_layer += fb\n",
    "    #conv2d_mp_layer = tf.nn.bias_add(conv2d_mp_layer, fb)\n",
    "    #conv2d_mp_layer = tf.nn.relu(conv2d_mp_layer)\n",
    "    conv2d_mp_layer = tf.nn.max_pool(conv2d_mp_layer, [1, *pool_ksize, 1], strides=[1, *pool_strides, 1], padding='VALID')\n",
    "    \n",
    "    return conv2d_mp_layer\n",
    "\n",
    "# note: change the padding from 'VALID' to 'SAME' boosted my accuracy above 50% (54%)\n",
    "\n",
    "\"\"\"\n",
    "DON'T MODIFY ANYTHING IN THIS CELL THAT IS BELOW THIS LINE\n",
    "\"\"\"\n",
    "tests.test_con_pool(conv2d_maxpool)"
   ]
  },
  {
   "cell_type": "markdown",
   "metadata": {},
   "source": [
    "### Flatten Layer\n",
    "Implement the `flatten` function to change the dimension of `x_tensor` from a 4-D tensor to a 2-D tensor.  The output should be the shape (*Batch Size*, *Flattened Image Size*). Shortcut option: you can use classes from the [TensorFlow Layers](https://www.tensorflow.org/api_docs/python/tf/layers) or [TensorFlow Layers (contrib)](https://www.tensorflow.org/api_guides/python/contrib.layers) packages for this layer. For more of a challenge, only use other TensorFlow packages."
   ]
  },
  {
   "cell_type": "code",
   "execution_count": 10,
   "metadata": {
    "collapsed": false
   },
   "outputs": [
    {
     "name": "stdout",
     "output_type": "stream",
     "text": [
      "Tests Passed\n"
     ]
    }
   ],
   "source": [
    "def flatten(x_tensor):\n",
    "    \"\"\"\n",
    "    Flatten x_tensor to (Batch Size, Flattened Image Size)\n",
    "    : x_tensor: A tensor of size (Batch Size, ...), where ... are the image dimensions.\n",
    "    : return: A tensor of size (Batch Size, Flattened Image Size).\n",
    "    \"\"\"\n",
    "    # TODO: Implement Function\n",
    "    return tf.contrib.layers.flatten(x_tensor)\n",
    "\n",
    "\n",
    "\"\"\"\n",
    "DON'T MODIFY ANYTHING IN THIS CELL THAT IS BELOW THIS LINE\n",
    "\"\"\"\n",
    "tests.test_flatten(flatten)"
   ]
  },
  {
   "cell_type": "markdown",
   "metadata": {},
   "source": [
    "### Fully-Connected Layer\n",
    "Implement the `fully_conn` function to apply a fully connected layer to `x_tensor` with the shape (*Batch Size*, *num_outputs*). Shortcut option: you can use classes from the [TensorFlow Layers](https://www.tensorflow.org/api_docs/python/tf/layers) or [TensorFlow Layers (contrib)](https://www.tensorflow.org/api_guides/python/contrib.layers) packages for this layer. For more of a challenge, only use other TensorFlow packages."
   ]
  },
  {
   "cell_type": "code",
   "execution_count": 11,
   "metadata": {
    "collapsed": false
   },
   "outputs": [
    {
     "name": "stdout",
     "output_type": "stream",
     "text": [
      "Tests Passed\n"
     ]
    }
   ],
   "source": [
    "def fully_conn(x_tensor, num_outputs):\n",
    "    \"\"\"\n",
    "    Apply a fully connected layer to x_tensor using weight and bias\n",
    "    : x_tensor: A 2-D tensor where the first dimension is batch size.\n",
    "    : num_outputs: The number of output that the new tensor should be.\n",
    "    : return: A 2-D tensor where the second dimension is num_outputs.\n",
    "    \"\"\"\n",
    "    # TODO: Implement Function\n",
    "    return tf.contrib.layers.fully_connected(x_tensor, num_outputs)\n",
    "\n",
    "\n",
    "\"\"\"\n",
    "DON'T MODIFY ANYTHING IN THIS CELL THAT IS BELOW THIS LINE\n",
    "\"\"\"\n",
    "tests.test_fully_conn(fully_conn)"
   ]
  },
  {
   "cell_type": "markdown",
   "metadata": {},
   "source": [
    "### Output Layer\n",
    "Implement the `output` function to apply a fully connected layer to `x_tensor` with the shape (*Batch Size*, *num_outputs*). Shortcut option: you can use classes from the [TensorFlow Layers](https://www.tensorflow.org/api_docs/python/tf/layers) or [TensorFlow Layers (contrib)](https://www.tensorflow.org/api_guides/python/contrib.layers) packages for this layer. For more of a challenge, only use other TensorFlow packages.\n",
    "\n",
    "**Note:** Activation, softmax, or cross entropy should **not** be applied to this."
   ]
  },
  {
   "cell_type": "code",
   "execution_count": 12,
   "metadata": {
    "collapsed": false
   },
   "outputs": [
    {
     "name": "stdout",
     "output_type": "stream",
     "text": [
      "Tests Passed\n"
     ]
    }
   ],
   "source": [
    "def output(x_tensor, num_outputs):\n",
    "    \"\"\"\n",
    "    Apply a output layer to x_tensor using weight and bias\n",
    "    : x_tensor: A 2-D tensor where the first dimension is batch size.\n",
    "    : num_outputs: The number of output that the new tensor should be.\n",
    "    : return: A 2-D tensor where the second dimension is num_outputs.\n",
    "    \"\"\"\n",
    "    # TODO: Implement Function\n",
    "    return tf.contrib.layers.fully_connected(x_tensor, num_outputs, activation_fn=None)\n",
    "\n",
    "\n",
    "\"\"\"\n",
    "DON'T MODIFY ANYTHING IN THIS CELL THAT IS BELOW THIS LINE\n",
    "\"\"\"\n",
    "tests.test_output(output)"
   ]
  },
  {
   "cell_type": "markdown",
   "metadata": {},
   "source": [
    "### Create Convolutional Model\n",
    "Implement the function `conv_net` to create a convolutional neural network model. The function takes in a batch of images, `x`, and outputs logits.  Use the layers you created above to create this model:\n",
    "\n",
    "* Apply 1, 2, or 3 Convolution and Max Pool layers\n",
    "* Apply a Flatten Layer\n",
    "* Apply 1, 2, or 3 Fully Connected Layers\n",
    "* Apply an Output Layer\n",
    "* Return the output\n",
    "* Apply [TensorFlow's Dropout](https://www.tensorflow.org/api_docs/python/tf/nn/dropout) to one or more layers in the model using `keep_prob`. "
   ]
  },
  {
   "cell_type": "code",
   "execution_count": 13,
   "metadata": {
    "collapsed": false
   },
   "outputs": [
    {
     "name": "stdout",
     "output_type": "stream",
     "text": [
      "Neural Network Built!\n"
     ]
    }
   ],
   "source": [
    "def conv_net(x, keep_prob):\n",
    "    \"\"\"\n",
    "    Create a convolutional neural network model\n",
    "    : x: Placeholder tensor that holds image data.\n",
    "    : keep_prob: Placeholder tensor that hold dropout keep probability.\n",
    "    : return: Tensor that represents logits\n",
    "    \"\"\"\n",
    "    # TODO: Apply 1, 2, or 3 Convolution and Max Pool layers\n",
    "    #    Play around with different number of outputs, kernel size and stride\n",
    "    # Function Definition from Above:\n",
    "    #layer = conv2d_maxpool(x, conv_num_outputs, conv_ksize, conv_strides, pool_ksize, pool_strides)\n",
    "    conv_num_outputs1 = 32\n",
    "    conv_num_outputs2 = 32\n",
    "    #conv_num_outputs3 = 32\n",
    "    \n",
    "    conv_ksize = (2,2)\n",
    "    conv_strides = (1,1)\n",
    "    pool_ksize = (2,2)\n",
    "    pool_strides = (1,1)  #reduce the pool strides from (3,3) to (1,1) makes a big difference!\n",
    "    \n",
    "    fc_num_output1 = 32 #add variations to the fully connected layers output dimension\n",
    "    fc_num_output2 = 32\n",
    "    num_outputs = 10\n",
    "    layer = conv2d_maxpool(x,conv_num_outputs1, conv_ksize, conv_strides, pool_ksize, pool_strides)\n",
    "    layer = conv2d_maxpool(layer, conv_num_outputs2, conv_ksize, conv_strides, pool_ksize, pool_strides)\n",
    "    #layer = conv2d_maxpool(layer, conv_num_outputs3, conv_ksize, conv_strides, pool_ksize, pool_strides)\n",
    "    layer = tf.nn.dropout(layer, keep_prob)\n",
    "\n",
    "    \n",
    "    # TODO: Apply a Flatten Layer\n",
    "    # Function Definition from Above:\n",
    "    f_layer = flatten(layer)\n",
    "    \n",
    "\n",
    "    # TODO: Apply 1, 2, or 3 Fully Connected Layers\n",
    "    #    Play around with different number of outputs\n",
    "    # Function Definition from Above:\n",
    "    #   fully_conn(x_tensor, num_outputs)\n",
    "    fconn = fully_conn(f_layer, fc_num_output1)\n",
    "    fconn = fully_conn(fconn, fc_num_output2)  # note: accuracy jumped from 10% to 30% after adding this\n",
    "    fconn = tf.nn.dropout(fconn, keep_prob)  # note: accuracy continue to increase to 40%+ after adding this\n",
    "    \n",
    "    # TODO: Apply an Output Layer\n",
    "    #    Set this to the number of classes\n",
    "    # Function Definition from Above:\n",
    "    #   output(x_tensor, num_outputs)\n",
    "    out = output(fconn, num_outputs)\n",
    "    \n",
    "    \n",
    "    # TODO: return output\n",
    "    return out\n",
    "\n",
    "\n",
    "\"\"\"\n",
    "DON'T MODIFY ANYTHING IN THIS CELL THAT IS BELOW THIS LINE\n",
    "\"\"\"\n",
    "\n",
    "##############################\n",
    "## Build the Neural Network ##\n",
    "##############################\n",
    "\n",
    "# Remove previous weights, bias, inputs, etc..\n",
    "tf.reset_default_graph()\n",
    "\n",
    "# Inputs\n",
    "x = neural_net_image_input((32, 32, 3))\n",
    "y = neural_net_label_input(10)\n",
    "keep_prob = neural_net_keep_prob_input()\n",
    "\n",
    "# Model\n",
    "logits = conv_net(x, keep_prob)\n",
    "\n",
    "# Name logits Tensor, so that is can be loaded from disk after training\n",
    "logits = tf.identity(logits, name='logits')\n",
    "\n",
    "# Loss and Optimizer\n",
    "cost = tf.reduce_mean(tf.nn.softmax_cross_entropy_with_logits(logits=logits, labels=y))\n",
    "optimizer = tf.train.AdamOptimizer().minimize(cost)\n",
    "\n",
    "# Accuracy\n",
    "correct_pred = tf.equal(tf.argmax(logits, 1), tf.argmax(y, 1))\n",
    "accuracy = tf.reduce_mean(tf.cast(correct_pred, tf.float32), name='accuracy')\n",
    "\n",
    "tests.test_conv_net(conv_net)"
   ]
  },
  {
   "cell_type": "markdown",
   "metadata": {},
   "source": [
    "## Train the Neural Network\n",
    "### Single Optimization\n",
    "Implement the function `train_neural_network` to do a single optimization.  The optimization should use `optimizer` to optimize in `session` with a `feed_dict` of the following:\n",
    "* `x` for image input\n",
    "* `y` for labels\n",
    "* `keep_prob` for keep probability for dropout\n",
    "\n",
    "This function will be called for each batch, so `tf.global_variables_initializer()` has already been called.\n",
    "\n",
    "Note: Nothing needs to be returned. This function is only optimizing the neural network."
   ]
  },
  {
   "cell_type": "code",
   "execution_count": 14,
   "metadata": {
    "collapsed": false
   },
   "outputs": [
    {
     "name": "stdout",
     "output_type": "stream",
     "text": [
      "Tests Passed\n"
     ]
    }
   ],
   "source": [
    "def train_neural_network(session, optimizer, keep_probability, feature_batch, label_batch):\n",
    "    \"\"\"\n",
    "    Optimize the session on a batch of images and labels\n",
    "    : session: Current TensorFlow session\n",
    "    : optimizer: TensorFlow optimizer function\n",
    "    : keep_probability: keep probability\n",
    "    : feature_batch: Batch of Numpy image data\n",
    "    : label_batch: Batch of Numpy label data\n",
    "    \"\"\"\n",
    "    # TODO: Implement Function\n",
    "    session.run(optimizer, feed_dict = {x:feature_batch,y:label_batch,keep_prob:keep_probability})\n",
    "    pass\n",
    "\n",
    "\n",
    "\"\"\"\n",
    "DON'T MODIFY ANYTHING IN THIS CELL THAT IS BELOW THIS LINE\n",
    "\"\"\"\n",
    "tests.test_train_nn(train_neural_network)"
   ]
  },
  {
   "cell_type": "markdown",
   "metadata": {},
   "source": [
    "### Show Stats\n",
    "Implement the function `print_stats` to print loss and validation accuracy.  Use the global variables `valid_features` and `valid_labels` to calculate validation accuracy.  Use a keep probability of `1.0` to calculate the loss and validation accuracy."
   ]
  },
  {
   "cell_type": "code",
   "execution_count": 15,
   "metadata": {
    "collapsed": false
   },
   "outputs": [],
   "source": [
    "def print_stats(session, feature_batch, label_batch, cost, accuracy):\n",
    "    \"\"\"\n",
    "    Print information about loss and validation accuracy\n",
    "    : session: Current TensorFlow session\n",
    "    : feature_batch: Batch of Numpy image data\n",
    "    : label_batch: Batch of Numpy label data\n",
    "    : cost: TensorFlow cost function\n",
    "    : accuracy: TensorFlow accuracy function\n",
    "    \"\"\"\n",
    "    # TODO: Implement Function\n",
    "    loss = session.run(cost, feed_dict = {x:feature_batch,y:label_batch,keep_prob:1.0})\n",
    "    valid_accuracy = session.run(accuracy, feed_dict = {x:valid_features,y:valid_labels,keep_prob:1.0})\n",
    "    print('Loss: {:>10.4f} Accuracy: {:.6f}'.format(loss,valid_accuracy))\n",
    "    pass"
   ]
  },
  {
   "cell_type": "markdown",
   "metadata": {},
   "source": [
    "### Hyperparameters\n",
    "Tune the following parameters:\n",
    "* Set `epochs` to the number of iterations until the network stops learning or start overfitting\n",
    "* Set `batch_size` to the highest number that your machine has memory for.  Most people set them to common sizes of memory:\n",
    " * 64\n",
    " * 128\n",
    " * 256\n",
    " * ...\n",
    "* Set `keep_probability` to the probability of keeping a node using dropout"
   ]
  },
  {
   "cell_type": "code",
   "execution_count": 18,
   "metadata": {
    "collapsed": true
   },
   "outputs": [],
   "source": [
    "# TODO: Tune Parameters\n",
    "epochs = 30\n",
    "batch_size = 1024\n",
    "keep_probability = 0.7"
   ]
  },
  {
   "cell_type": "markdown",
   "metadata": {},
   "source": [
    "### Train on a Single CIFAR-10 Batch\n",
    "Instead of training the neural network on all the CIFAR-10 batches of data, let's use a single batch. This should save time while you iterate on the model to get a better accuracy.  Once the final validation accuracy is 50% or greater, run the model on all the data in the next section."
   ]
  },
  {
   "cell_type": "code",
   "execution_count": 19,
   "metadata": {
    "collapsed": false
   },
   "outputs": [
    {
     "name": "stdout",
     "output_type": "stream",
     "text": [
      "Checking the Training on a Single Batch...\n",
      "Epoch  1, CIFAR-10 Batch 1:  Loss:     2.2087 Accuracy: 0.165200\n",
      "Epoch  2, CIFAR-10 Batch 1:  Loss:     2.0221 Accuracy: 0.288200\n",
      "Epoch  3, CIFAR-10 Batch 1:  Loss:     1.9223 Accuracy: 0.322400\n",
      "Epoch  4, CIFAR-10 Batch 1:  Loss:     1.8173 Accuracy: 0.364000\n",
      "Epoch  5, CIFAR-10 Batch 1:  Loss:     1.7431 Accuracy: 0.392200\n",
      "Epoch  6, CIFAR-10 Batch 1:  Loss:     1.6807 Accuracy: 0.408000\n",
      "Epoch  7, CIFAR-10 Batch 1:  Loss:     1.6305 Accuracy: 0.413000\n",
      "Epoch  8, CIFAR-10 Batch 1:  Loss:     1.5937 Accuracy: 0.438800\n",
      "Epoch  9, CIFAR-10 Batch 1:  Loss:     1.5522 Accuracy: 0.431200\n",
      "Epoch 10, CIFAR-10 Batch 1:  Loss:     1.5092 Accuracy: 0.438800\n",
      "Epoch 11, CIFAR-10 Batch 1:  Loss:     1.4425 Accuracy: 0.472600\n",
      "Epoch 12, CIFAR-10 Batch 1:  Loss:     1.4071 Accuracy: 0.465600\n",
      "Epoch 13, CIFAR-10 Batch 1:  Loss:     1.3725 Accuracy: 0.476400\n",
      "Epoch 14, CIFAR-10 Batch 1:  Loss:     1.3550 Accuracy: 0.477800\n",
      "Epoch 15, CIFAR-10 Batch 1:  Loss:     1.3010 Accuracy: 0.487200\n",
      "Epoch 16, CIFAR-10 Batch 1:  Loss:     1.2599 Accuracy: 0.495200\n",
      "Epoch 17, CIFAR-10 Batch 1:  Loss:     1.2305 Accuracy: 0.490000\n",
      "Epoch 18, CIFAR-10 Batch 1:  Loss:     1.1914 Accuracy: 0.497200\n",
      "Epoch 19, CIFAR-10 Batch 1:  Loss:     1.1681 Accuracy: 0.495600\n",
      "Epoch 20, CIFAR-10 Batch 1:  Loss:     1.1352 Accuracy: 0.497000\n",
      "Epoch 21, CIFAR-10 Batch 1:  Loss:     1.1030 Accuracy: 0.507600\n",
      "Epoch 22, CIFAR-10 Batch 1:  Loss:     1.0923 Accuracy: 0.499000\n",
      "Epoch 23, CIFAR-10 Batch 1:  Loss:     1.0692 Accuracy: 0.507400\n",
      "Epoch 24, CIFAR-10 Batch 1:  Loss:     1.0336 Accuracy: 0.518800\n",
      "Epoch 25, CIFAR-10 Batch 1:  Loss:     0.9895 Accuracy: 0.524400\n",
      "Epoch 26, CIFAR-10 Batch 1:  Loss:     0.9628 Accuracy: 0.527600\n",
      "Epoch 27, CIFAR-10 Batch 1:  Loss:     0.9401 Accuracy: 0.526600\n",
      "Epoch 28, CIFAR-10 Batch 1:  Loss:     0.9233 Accuracy: 0.527400\n",
      "Epoch 29, CIFAR-10 Batch 1:  Loss:     0.8717 Accuracy: 0.532200\n",
      "Epoch 30, CIFAR-10 Batch 1:  Loss:     0.8696 Accuracy: 0.531400\n"
     ]
    }
   ],
   "source": [
    "\"\"\"\n",
    "DON'T MODIFY ANYTHING IN THIS CELL\n",
    "\"\"\"\n",
    "print('Checking the Training on a Single Batch...')\n",
    "with tf.Session() as sess:\n",
    "    # Initializing the variables\n",
    "    sess.run(tf.global_variables_initializer())\n",
    "    \n",
    "    # Training cycle\n",
    "    for epoch in range(epochs):\n",
    "        batch_i = 1\n",
    "        for batch_features, batch_labels in helper.load_preprocess_training_batch(batch_i, batch_size):\n",
    "            train_neural_network(sess, optimizer, keep_probability, batch_features, batch_labels)\n",
    "        print('Epoch {:>2}, CIFAR-10 Batch {}:  '.format(epoch + 1, batch_i), end='')\n",
    "        print_stats(sess, batch_features, batch_labels, cost, accuracy)"
   ]
  },
  {
   "cell_type": "markdown",
   "metadata": {},
   "source": [
    "### Fully Train the Model\n",
    "Now that you got a good accuracy with a single CIFAR-10 batch, try it with all five batches."
   ]
  },
  {
   "cell_type": "code",
   "execution_count": 20,
   "metadata": {
    "collapsed": false
   },
   "outputs": [
    {
     "name": "stdout",
     "output_type": "stream",
     "text": [
      "Training...\n",
      "Epoch  1, CIFAR-10 Batch 1:  Loss:     2.2272 Accuracy: 0.143200\n",
      "Epoch  1, CIFAR-10 Batch 2:  Loss:     2.0842 Accuracy: 0.258800\n",
      "Epoch  1, CIFAR-10 Batch 3:  Loss:     1.9851 Accuracy: 0.306800\n",
      "Epoch  1, CIFAR-10 Batch 4:  Loss:     1.9095 Accuracy: 0.328000\n",
      "Epoch  1, CIFAR-10 Batch 5:  Loss:     1.8827 Accuracy: 0.344600\n",
      "Epoch  2, CIFAR-10 Batch 1:  Loss:     1.8181 Accuracy: 0.367200\n",
      "Epoch  2, CIFAR-10 Batch 2:  Loss:     1.7540 Accuracy: 0.394600\n",
      "Epoch  2, CIFAR-10 Batch 3:  Loss:     1.6728 Accuracy: 0.412200\n",
      "Epoch  2, CIFAR-10 Batch 4:  Loss:     1.6114 Accuracy: 0.425800\n",
      "Epoch  2, CIFAR-10 Batch 5:  Loss:     1.6332 Accuracy: 0.434000\n",
      "Epoch  3, CIFAR-10 Batch 1:  Loss:     1.6238 Accuracy: 0.428200\n",
      "Epoch  3, CIFAR-10 Batch 2:  Loss:     1.5634 Accuracy: 0.456400\n",
      "Epoch  3, CIFAR-10 Batch 3:  Loss:     1.4980 Accuracy: 0.466200\n",
      "Epoch  3, CIFAR-10 Batch 4:  Loss:     1.4579 Accuracy: 0.466400\n",
      "Epoch  3, CIFAR-10 Batch 5:  Loss:     1.4764 Accuracy: 0.483000\n",
      "Epoch  4, CIFAR-10 Batch 1:  Loss:     1.5257 Accuracy: 0.461200\n",
      "Epoch  4, CIFAR-10 Batch 2:  Loss:     1.4323 Accuracy: 0.493000\n",
      "Epoch  4, CIFAR-10 Batch 3:  Loss:     1.3782 Accuracy: 0.502200\n",
      "Epoch  4, CIFAR-10 Batch 4:  Loss:     1.3392 Accuracy: 0.501400\n",
      "Epoch  4, CIFAR-10 Batch 5:  Loss:     1.3579 Accuracy: 0.516600\n",
      "Epoch  5, CIFAR-10 Batch 1:  Loss:     1.3653 Accuracy: 0.523800\n",
      "Epoch  5, CIFAR-10 Batch 2:  Loss:     1.3182 Accuracy: 0.526600\n",
      "Epoch  5, CIFAR-10 Batch 3:  Loss:     1.2764 Accuracy: 0.521200\n",
      "Epoch  5, CIFAR-10 Batch 4:  Loss:     1.2327 Accuracy: 0.534400\n",
      "Epoch  5, CIFAR-10 Batch 5:  Loss:     1.2768 Accuracy: 0.533000\n",
      "Epoch  6, CIFAR-10 Batch 1:  Loss:     1.2899 Accuracy: 0.531400\n",
      "Epoch  6, CIFAR-10 Batch 2:  Loss:     1.2273 Accuracy: 0.550400\n",
      "Epoch  6, CIFAR-10 Batch 3:  Loss:     1.1830 Accuracy: 0.555600\n",
      "Epoch  6, CIFAR-10 Batch 4:  Loss:     1.1719 Accuracy: 0.542400\n",
      "Epoch  6, CIFAR-10 Batch 5:  Loss:     1.2241 Accuracy: 0.535200\n",
      "Epoch  7, CIFAR-10 Batch 1:  Loss:     1.2237 Accuracy: 0.545800\n",
      "Epoch  7, CIFAR-10 Batch 2:  Loss:     1.1817 Accuracy: 0.562200\n",
      "Epoch  7, CIFAR-10 Batch 3:  Loss:     1.1206 Accuracy: 0.567800\n",
      "Epoch  7, CIFAR-10 Batch 4:  Loss:     1.0929 Accuracy: 0.566400\n",
      "Epoch  7, CIFAR-10 Batch 5:  Loss:     1.1145 Accuracy: 0.571000\n",
      "Epoch  8, CIFAR-10 Batch 1:  Loss:     1.1434 Accuracy: 0.569400\n",
      "Epoch  8, CIFAR-10 Batch 2:  Loss:     1.1411 Accuracy: 0.555600\n",
      "Epoch  8, CIFAR-10 Batch 3:  Loss:     1.0960 Accuracy: 0.569000\n",
      "Epoch  8, CIFAR-10 Batch 4:  Loss:     1.0589 Accuracy: 0.573600\n",
      "Epoch  8, CIFAR-10 Batch 5:  Loss:     1.1007 Accuracy: 0.568200\n",
      "Epoch  9, CIFAR-10 Batch 1:  Loss:     1.0991 Accuracy: 0.577600\n",
      "Epoch  9, CIFAR-10 Batch 2:  Loss:     1.1061 Accuracy: 0.555200\n",
      "Epoch  9, CIFAR-10 Batch 3:  Loss:     1.0810 Accuracy: 0.572200\n",
      "Epoch  9, CIFAR-10 Batch 4:  Loss:     1.0262 Accuracy: 0.575000\n",
      "Epoch  9, CIFAR-10 Batch 5:  Loss:     1.0396 Accuracy: 0.585600\n",
      "Epoch 10, CIFAR-10 Batch 1:  Loss:     1.0497 Accuracy: 0.586400\n",
      "Epoch 10, CIFAR-10 Batch 2:  Loss:     1.0216 Accuracy: 0.589800\n",
      "Epoch 10, CIFAR-10 Batch 3:  Loss:     1.0188 Accuracy: 0.585000\n",
      "Epoch 10, CIFAR-10 Batch 4:  Loss:     0.9728 Accuracy: 0.585800\n",
      "Epoch 10, CIFAR-10 Batch 5:  Loss:     0.9999 Accuracy: 0.587000\n",
      "Epoch 11, CIFAR-10 Batch 1:  Loss:     1.0404 Accuracy: 0.584200\n",
      "Epoch 11, CIFAR-10 Batch 2:  Loss:     0.9897 Accuracy: 0.596800\n",
      "Epoch 11, CIFAR-10 Batch 3:  Loss:     0.9778 Accuracy: 0.589800\n",
      "Epoch 11, CIFAR-10 Batch 4:  Loss:     0.9420 Accuracy: 0.592400\n",
      "Epoch 11, CIFAR-10 Batch 5:  Loss:     0.9567 Accuracy: 0.599800\n",
      "Epoch 12, CIFAR-10 Batch 1:  Loss:     0.9871 Accuracy: 0.593600\n",
      "Epoch 12, CIFAR-10 Batch 2:  Loss:     1.0015 Accuracy: 0.573200\n",
      "Epoch 12, CIFAR-10 Batch 3:  Loss:     0.9737 Accuracy: 0.586600\n",
      "Epoch 12, CIFAR-10 Batch 4:  Loss:     0.9130 Accuracy: 0.600400\n",
      "Epoch 12, CIFAR-10 Batch 5:  Loss:     0.9282 Accuracy: 0.601800\n",
      "Epoch 13, CIFAR-10 Batch 1:  Loss:     0.9561 Accuracy: 0.606400\n",
      "Epoch 13, CIFAR-10 Batch 2:  Loss:     0.9519 Accuracy: 0.588600\n",
      "Epoch 13, CIFAR-10 Batch 3:  Loss:     0.9412 Accuracy: 0.593800\n",
      "Epoch 13, CIFAR-10 Batch 4:  Loss:     0.8969 Accuracy: 0.599000\n",
      "Epoch 13, CIFAR-10 Batch 5:  Loss:     0.8942 Accuracy: 0.607200\n",
      "Epoch 14, CIFAR-10 Batch 1:  Loss:     0.9497 Accuracy: 0.608800\n",
      "Epoch 14, CIFAR-10 Batch 2:  Loss:     0.9253 Accuracy: 0.592200\n",
      "Epoch 14, CIFAR-10 Batch 3:  Loss:     0.8978 Accuracy: 0.599600\n",
      "Epoch 14, CIFAR-10 Batch 4:  Loss:     0.8937 Accuracy: 0.590600\n",
      "Epoch 14, CIFAR-10 Batch 5:  Loss:     0.8962 Accuracy: 0.602200\n",
      "Epoch 15, CIFAR-10 Batch 1:  Loss:     0.9259 Accuracy: 0.606800\n",
      "Epoch 15, CIFAR-10 Batch 2:  Loss:     0.8849 Accuracy: 0.605200\n",
      "Epoch 15, CIFAR-10 Batch 3:  Loss:     0.8773 Accuracy: 0.600000\n",
      "Epoch 15, CIFAR-10 Batch 4:  Loss:     0.8561 Accuracy: 0.609400\n",
      "Epoch 15, CIFAR-10 Batch 5:  Loss:     0.8640 Accuracy: 0.608200\n",
      "Epoch 16, CIFAR-10 Batch 1:  Loss:     0.8692 Accuracy: 0.615600\n",
      "Epoch 16, CIFAR-10 Batch 2:  Loss:     0.8586 Accuracy: 0.612600\n",
      "Epoch 16, CIFAR-10 Batch 3:  Loss:     0.8389 Accuracy: 0.608400\n",
      "Epoch 16, CIFAR-10 Batch 4:  Loss:     0.8300 Accuracy: 0.609800\n",
      "Epoch 16, CIFAR-10 Batch 5:  Loss:     0.8186 Accuracy: 0.613600\n",
      "Epoch 17, CIFAR-10 Batch 1:  Loss:     0.8550 Accuracy: 0.615800\n",
      "Epoch 17, CIFAR-10 Batch 2:  Loss:     0.8411 Accuracy: 0.615400\n",
      "Epoch 17, CIFAR-10 Batch 3:  Loss:     0.8061 Accuracy: 0.612200\n",
      "Epoch 17, CIFAR-10 Batch 4:  Loss:     0.8044 Accuracy: 0.616600\n",
      "Epoch 17, CIFAR-10 Batch 5:  Loss:     0.7900 Accuracy: 0.616600\n",
      "Epoch 18, CIFAR-10 Batch 1:  Loss:     0.8323 Accuracy: 0.622200\n",
      "Epoch 18, CIFAR-10 Batch 2:  Loss:     0.8118 Accuracy: 0.611200\n",
      "Epoch 18, CIFAR-10 Batch 3:  Loss:     0.7711 Accuracy: 0.616000\n",
      "Epoch 18, CIFAR-10 Batch 4:  Loss:     0.7947 Accuracy: 0.616800\n",
      "Epoch 18, CIFAR-10 Batch 5:  Loss:     0.7833 Accuracy: 0.611800\n",
      "Epoch 19, CIFAR-10 Batch 1:  Loss:     0.8186 Accuracy: 0.623200\n",
      "Epoch 19, CIFAR-10 Batch 2:  Loss:     0.8214 Accuracy: 0.605200\n",
      "Epoch 19, CIFAR-10 Batch 3:  Loss:     0.7576 Accuracy: 0.626800\n",
      "Epoch 19, CIFAR-10 Batch 4:  Loss:     0.7737 Accuracy: 0.620400\n",
      "Epoch 19, CIFAR-10 Batch 5:  Loss:     0.7631 Accuracy: 0.617000\n",
      "Epoch 20, CIFAR-10 Batch 1:  Loss:     0.8080 Accuracy: 0.621000\n",
      "Epoch 20, CIFAR-10 Batch 2:  Loss:     0.7695 Accuracy: 0.618000\n",
      "Epoch 20, CIFAR-10 Batch 3:  Loss:     0.7546 Accuracy: 0.617400\n",
      "Epoch 20, CIFAR-10 Batch 4:  Loss:     0.8016 Accuracy: 0.603000\n",
      "Epoch 20, CIFAR-10 Batch 5:  Loss:     0.7389 Accuracy: 0.626000\n",
      "Epoch 21, CIFAR-10 Batch 1:  Loss:     0.8075 Accuracy: 0.613800\n",
      "Epoch 21, CIFAR-10 Batch 2:  Loss:     0.7521 Accuracy: 0.616400\n",
      "Epoch 21, CIFAR-10 Batch 3:  Loss:     0.7648 Accuracy: 0.605000\n",
      "Epoch 21, CIFAR-10 Batch 4:  Loss:     0.7483 Accuracy: 0.623400\n",
      "Epoch 21, CIFAR-10 Batch 5:  Loss:     0.7226 Accuracy: 0.617000\n",
      "Epoch 22, CIFAR-10 Batch 1:  Loss:     0.7723 Accuracy: 0.631800\n",
      "Epoch 22, CIFAR-10 Batch 2:  Loss:     0.7338 Accuracy: 0.622200\n",
      "Epoch 22, CIFAR-10 Batch 3:  Loss:     0.7331 Accuracy: 0.623200\n",
      "Epoch 22, CIFAR-10 Batch 4:  Loss:     0.7184 Accuracy: 0.622800\n",
      "Epoch 22, CIFAR-10 Batch 5:  Loss:     0.6972 Accuracy: 0.625600\n",
      "Epoch 23, CIFAR-10 Batch 1:  Loss:     0.7693 Accuracy: 0.621200\n",
      "Epoch 23, CIFAR-10 Batch 2:  Loss:     0.7284 Accuracy: 0.620200\n",
      "Epoch 23, CIFAR-10 Batch 3:  Loss:     0.6971 Accuracy: 0.626800\n",
      "Epoch 23, CIFAR-10 Batch 4:  Loss:     0.6869 Accuracy: 0.625800\n",
      "Epoch 23, CIFAR-10 Batch 5:  Loss:     0.6670 Accuracy: 0.630600\n",
      "Epoch 24, CIFAR-10 Batch 1:  Loss:     0.7443 Accuracy: 0.629800\n",
      "Epoch 24, CIFAR-10 Batch 2:  Loss:     0.6889 Accuracy: 0.629600\n",
      "Epoch 24, CIFAR-10 Batch 3:  Loss:     0.6991 Accuracy: 0.624000\n",
      "Epoch 24, CIFAR-10 Batch 4:  Loss:     0.6685 Accuracy: 0.632400\n",
      "Epoch 24, CIFAR-10 Batch 5:  Loss:     0.6554 Accuracy: 0.631000\n",
      "Epoch 25, CIFAR-10 Batch 1:  Loss:     0.7349 Accuracy: 0.632200\n",
      "Epoch 25, CIFAR-10 Batch 2:  Loss:     0.6970 Accuracy: 0.624000\n",
      "Epoch 25, CIFAR-10 Batch 3:  Loss:     0.7087 Accuracy: 0.620200\n",
      "Epoch 25, CIFAR-10 Batch 4:  Loss:     0.6539 Accuracy: 0.632000\n",
      "Epoch 25, CIFAR-10 Batch 5:  Loss:     0.6403 Accuracy: 0.629000\n",
      "Epoch 26, CIFAR-10 Batch 1:  Loss:     0.7047 Accuracy: 0.632400\n",
      "Epoch 26, CIFAR-10 Batch 2:  Loss:     0.6543 Accuracy: 0.631800\n",
      "Epoch 26, CIFAR-10 Batch 3:  Loss:     0.6411 Accuracy: 0.632400\n",
      "Epoch 26, CIFAR-10 Batch 4:  Loss:     0.6422 Accuracy: 0.634000\n",
      "Epoch 26, CIFAR-10 Batch 5:  Loss:     0.6210 Accuracy: 0.634600\n",
      "Epoch 27, CIFAR-10 Batch 1:  Loss:     0.6909 Accuracy: 0.635600\n",
      "Epoch 27, CIFAR-10 Batch 2:  Loss:     0.6498 Accuracy: 0.629200\n",
      "Epoch 27, CIFAR-10 Batch 3:  Loss:     0.6277 Accuracy: 0.628800\n",
      "Epoch 27, CIFAR-10 Batch 4:  Loss:     0.6324 Accuracy: 0.628400\n",
      "Epoch 27, CIFAR-10 Batch 5:  Loss:     0.6080 Accuracy: 0.630200\n",
      "Epoch 28, CIFAR-10 Batch 1:  Loss:     0.6817 Accuracy: 0.635400\n",
      "Epoch 28, CIFAR-10 Batch 2:  Loss:     0.6286 Accuracy: 0.636800\n",
      "Epoch 28, CIFAR-10 Batch 3:  Loss:     0.6130 Accuracy: 0.637200\n",
      "Epoch 28, CIFAR-10 Batch 4:  Loss:     0.5835 Accuracy: 0.640400\n",
      "Epoch 28, CIFAR-10 Batch 5:  Loss:     0.5918 Accuracy: 0.635800\n",
      "Epoch 29, CIFAR-10 Batch 1:  Loss:     0.6879 Accuracy: 0.629400\n",
      "Epoch 29, CIFAR-10 Batch 2:  Loss:     0.6227 Accuracy: 0.631800\n",
      "Epoch 29, CIFAR-10 Batch 3:  Loss:     0.6104 Accuracy: 0.637200\n",
      "Epoch 29, CIFAR-10 Batch 4:  Loss:     0.5686 Accuracy: 0.639200\n",
      "Epoch 29, CIFAR-10 Batch 5:  Loss:     0.5740 Accuracy: 0.639000\n",
      "Epoch 30, CIFAR-10 Batch 1:  Loss:     0.6406 Accuracy: 0.642600\n",
      "Epoch 30, CIFAR-10 Batch 2:  Loss:     0.5908 Accuracy: 0.637600\n",
      "Epoch 30, CIFAR-10 Batch 3:  Loss:     0.6179 Accuracy: 0.629600\n",
      "Epoch 30, CIFAR-10 Batch 4:  Loss:     0.5745 Accuracy: 0.636600\n",
      "Epoch 30, CIFAR-10 Batch 5:  Loss:     0.5605 Accuracy: 0.646000\n"
     ]
    }
   ],
   "source": [
    "\"\"\"\n",
    "DON'T MODIFY ANYTHING IN THIS CELL\n",
    "\"\"\"\n",
    "save_model_path = './image_classification'\n",
    "\n",
    "print('Training...')\n",
    "with tf.Session() as sess:\n",
    "    # Initializing the variables\n",
    "    sess.run(tf.global_variables_initializer())\n",
    "    \n",
    "    # Training cycle\n",
    "    for epoch in range(epochs):\n",
    "        # Loop over all batches\n",
    "        n_batches = 5\n",
    "        for batch_i in range(1, n_batches + 1):\n",
    "            for batch_features, batch_labels in helper.load_preprocess_training_batch(batch_i, batch_size):\n",
    "                train_neural_network(sess, optimizer, keep_probability, batch_features, batch_labels)\n",
    "            print('Epoch {:>2}, CIFAR-10 Batch {}:  '.format(epoch + 1, batch_i), end='')\n",
    "            print_stats(sess, batch_features, batch_labels, cost, accuracy)\n",
    "            \n",
    "    # Save Model\n",
    "    saver = tf.train.Saver()\n",
    "    save_path = saver.save(sess, save_model_path)"
   ]
  },
  {
   "cell_type": "markdown",
   "metadata": {},
   "source": [
    "# Checkpoint\n",
    "The model has been saved to disk.\n",
    "## Test Model\n",
    "Test your model against the test dataset.  This will be your final accuracy. You should have an accuracy greater than 50%. If you don't, keep tweaking the model architecture and parameters."
   ]
  },
  {
   "cell_type": "code",
   "execution_count": 22,
   "metadata": {
    "collapsed": false
   },
   "outputs": [
    {
     "name": "stdout",
     "output_type": "stream",
     "text": [
      "Testing Accuracy: 0.6410016775131225\n",
      "\n"
     ]
    },
    {
     "data": {
      "image/png": "[encoded data removed]",
      "text/plain": [
       "<matplotlib.figure.Figure at 0x7f45a80b5dd8>"
      ]
     },
     "metadata": {
      "image/png": {
       "height": 319,
       "width": 355
      }
     },
     "output_type": "display_data"
    }
   ],
   "source": [
    "\"\"\"\n",
    "DON'T MODIFY ANYTHING IN THIS CELL\n",
    "\"\"\"\n",
    "%matplotlib inline\n",
    "%config InlineBackend.figure_format = 'retina'\n",
    "\n",
    "import tensorflow as tf\n",
    "import pickle\n",
    "import helper\n",
    "import random\n",
    "\n",
    "# Set batch size if not already set\n",
    "try:\n",
    "    if batch_size:\n",
    "        pass\n",
    "except NameError:\n",
    "    batch_size = 64\n",
    "\n",
    "save_model_path = './image_classification'\n",
    "n_samples = 4\n",
    "top_n_predictions = 3\n",
    "\n",
    "def test_model():\n",
    "    \"\"\"\n",
    "    Test the saved model against the test dataset\n",
    "    \"\"\"\n",
    "\n",
    "    test_features, test_labels = pickle.load(open('preprocess_training.p', mode='rb'))\n",
    "    loaded_graph = tf.Graph()\n",
    "\n",
    "    with tf.Session(graph=loaded_graph) as sess:\n",
    "        # Load model\n",
    "        loader = tf.train.import_meta_graph(save_model_path + '.meta')\n",
    "        loader.restore(sess, save_model_path)\n",
    "\n",
    "        # Get Tensors from loaded model\n",
    "        loaded_x = loaded_graph.get_tensor_by_name('x:0')\n",
    "        loaded_y = loaded_graph.get_tensor_by_name('y:0')\n",
    "        loaded_keep_prob = loaded_graph.get_tensor_by_name('keep_prob:0')\n",
    "        loaded_logits = loaded_graph.get_tensor_by_name('logits:0')\n",
    "        loaded_acc = loaded_graph.get_tensor_by_name('accuracy:0')\n",
    "        \n",
    "        # Get accuracy in batches for memory limitations\n",
    "        test_batch_acc_total = 0\n",
    "        test_batch_count = 0\n",
    "        \n",
    "        for train_feature_batch, train_label_batch in helper.batch_features_labels(test_features, test_labels, batch_size):\n",
    "            test_batch_acc_total += sess.run(\n",
    "                loaded_acc,\n",
    "                feed_dict={loaded_x: train_feature_batch, loaded_y: train_label_batch, loaded_keep_prob: 1.0})\n",
    "            test_batch_count += 1\n",
    "\n",
    "        print('Testing Accuracy: {}\\n'.format(test_batch_acc_total/test_batch_count))\n",
    "\n",
    "        # Print Random Samples\n",
    "        random_test_features, random_test_labels = tuple(zip(*random.sample(list(zip(test_features, test_labels)), n_samples)))\n",
    "        random_test_predictions = sess.run(\n",
    "            tf.nn.top_k(tf.nn.softmax(loaded_logits), top_n_predictions),\n",
    "            feed_dict={loaded_x: random_test_features, loaded_y: random_test_labels, loaded_keep_prob: 1.0})\n",
    "        helper.display_image_predictions(random_test_features, random_test_labels, random_test_predictions)\n",
    "\n",
    "\n",
    "test_model()"
   ]
  },
  {
   "cell_type": "markdown",
   "metadata": {},
   "source": [
    "## Why 50-70% Accuracy?\n",
    "You might be wondering why you can't get an accuracy any higher. First things first, 50% isn't bad for a simple CNN.  Pure guessing would get you 10% accuracy. However, you might notice people are getting scores [well above 70%](http://rodrigob.github.io/are_we_there_yet/build/classification_datasets_results.html#43494641522d3130).  That's because we haven't taught you all there is to know about neural networks. We still need to cover a few more techniques.\n",
    "## Submitting This Project\n",
    "When submitting this project, make sure to run all the cells before saving the notebook.  Save the notebook file as \"dlnd_image_classification.ipynb\" and save it as a HTML file under \"File\" -> \"Download as\".  Include the \"helper.py\" and \"problem_unittests.py\" files in your submission."
   ]
  }
 ],
 "metadata": {
  "kernelspec": {
   "display_name": "Python 3",
   "language": "python",
   "name": "python3"
  },
  "language_info": {
   "codemirror_mode": {
    "name": "ipython",
    "version": 3
   },
   "file_extension": ".py",
   "mimetype": "text/x-python",
   "name": "python",
   "nbconvert_exporter": "python",
   "pygments_lexer": "ipython3",
   "version": "3.5.3"
  }
 },
 "nbformat": 4,
 "nbformat_minor": 0
}
